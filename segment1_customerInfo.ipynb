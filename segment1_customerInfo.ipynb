{
 "cells": [
  {
   "cell_type": "markdown",
   "id": "2adb8de1-c7ae-4f05-a10c-032ee94eeb01",
   "metadata": {
    "tags": []
   },
   "source": [
    "### Customer Segmentation 1 - Cluster by Customer Info"
   ]
  },
  {
   "cell_type": "code",
   "execution_count": null,
   "id": "ebfd01d0-16f0-43c1-b7a8-1fe2b1d56bf0",
   "metadata": {},
   "outputs": [],
   "source": []
  }
 ],
 "metadata": {
  "kernelspec": {
   "display_name": "Python 3 (ipykernel)",
   "language": "python",
   "name": "python3"
  },
  "language_info": {
   "codemirror_mode": {
    "name": "ipython",
    "version": 3
   },
   "file_extension": ".py",
   "mimetype": "text/x-python",
   "name": "python",
   "nbconvert_exporter": "python",
   "pygments_lexer": "ipython3",
   "version": "3.10.9"
  }
 },
 "nbformat": 4,
 "nbformat_minor": 5
}
