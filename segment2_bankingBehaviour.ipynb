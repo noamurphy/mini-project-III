{
 "cells": [
  {
   "cell_type": "markdown",
   "metadata": {},
   "source": [
    "### Customer Segmentation 2 - Cluster by Banking Behaviour"
   ]
  },
  {
   "cell_type": "code",
   "execution_count": null,
   "metadata": {},
   "outputs": [],
   "source": [
    "# import necessary libraries\n",
    "import pandas as pd\n",
    "import numpy as np\n",
    "from sklearn.cluster import KMeans\n",
    "from sklearn.preprocessing import StandardScaler\n",
    "\n",
    "# load data\n",
    "customer_df = pd.read_csv('customer_table.csv')\n",
    "accounts_df = pd.read_csv('accounts_table.csv')\n",
    "transactions_df = pd.read_csv('transactions_table.csv')\n",
    "\n",
    "# join tables\n",
    "merged_df = customer_df.merge(accounts_df, on='customer_id').merge(transactions_df, on='account_id')\n",
    "\n",
    "# select relevant features\n",
    "features = ['transaction_amount', 'balance', 'credit_score']\n",
    "\n",
    "# deal with missing values\n",
    "merged_df[features] = merged_df[features].fillna(merged_df[features].mean())\n",
    "\n",
    "# scale and normalize data\n",
    "scaler = StandardScaler()\n",
    "scaled_df = scaler.fit_transform(merged_df[features])\n",
    "\n",
    "# apply K-means algorithm\n",
    "kmeans = KMeans(n_clusters=3, random_state=0)\n",
    "kmeans.fit(scaled_df)\n",
    "\n",
    "# add cluster labels to the data\n",
    "merged_df['cluster_label'] = kmeans.labels_\n",
    "\n",
    "# analyze cluster characteristics\n",
    "cluster_summary = merged_df.groupby('cluster_label')[features].mean()\n",
    "print(cluster_summary)\n"
   ]
  }
 ],
 "metadata": {
  "kernelspec": {
   "display_name": "Python 3 (ipykernel)",
   "language": "python",
   "name": "python3"
  },
  "language_info": {
   "codemirror_mode": {
    "name": "ipython",
    "version": 3
   },
   "file_extension": ".py",
   "mimetype": "text/x-python",
   "name": "python",
   "nbconvert_exporter": "python",
   "pygments_lexer": "ipython3",
   "version": "3.10.9"
  }
 },
 "nbformat": 4,
 "nbformat_minor": 4
}
